{
 "cells": [
  {
   "cell_type": "markdown",
   "metadata": {},
   "source": [
    "# 字符编码转换\n",
    "### Unicode:存英文/中文字符，占2个字节（16bit）     包含GBK,UTF-8,\n",
    "### utf-8:可变长的编码"
   ]
  },
  {
   "cell_type": "code",
   "execution_count": 1,
   "metadata": {},
   "outputs": [
    {
     "name": "stdout",
     "output_type": "stream",
     "text": [
      "utf-8\n"
     ]
    }
   ],
   "source": [
    "# 打印系统的默认编码\n",
    "import sys\n",
    "print(sys.getdefaultencoding())"
   ]
  },
  {
   "cell_type": "code",
   "execution_count": 18,
   "metadata": {},
   "outputs": [
    {
     "name": "stdout",
     "output_type": "stream",
     "text": [
      "gbk: b'\\xc4\\xe3\\xba\\xc3'\n",
      "b'\\xe4\\xbd\\xa0\\xe5\\xa5\\xbd'\n",
      "utf-8: b'\\xe4\\xbd\\xa0\\xe5\\xa5\\xbd'\n"
     ]
    }
   ],
   "source": [
    "s = \"你好\"   # 一开始是Unicode编码\n",
    "s_gbk = s.encode(\"gbk\")   # 解码    Unicode解码成GBK\n",
    "print(\"gbk:\",s_gbk)\n",
    "print(s.encode())    # Unicode直接解码为utf-8\n",
    "gbk_to_utf8 = s_gbk.decode(\"gbk\").encode(\"utf-8\")   # gbk先编码为Unicode，然后解码为UTF-8\n",
    "print(\"utf-8:\",gbk_to_utf8)"
   ]
  },
  {
   "cell_type": "code",
   "execution_count": null,
   "metadata": {},
   "outputs": [],
   "source": []
  }
 ],
 "metadata": {
  "kernelspec": {
   "display_name": "Python 3",
   "language": "python",
   "name": "python3"
  },
  "language_info": {
   "codemirror_mode": {
    "name": "ipython",
    "version": 3
   },
   "file_extension": ".py",
   "mimetype": "text/x-python",
   "name": "python",
   "nbconvert_exporter": "python",
   "pygments_lexer": "ipython3",
   "version": "3.7.2"
  }
 },
 "nbformat": 4,
 "nbformat_minor": 2
}
