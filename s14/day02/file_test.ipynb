{
 "cells": [
  {
   "cell_type": "markdown",
   "metadata": {},
   "source": [
    "# 文件操作\n",
    "## 字符编码的问题"
   ]
  },
  {
   "cell_type": "code",
   "execution_count": 6,
   "metadata": {},
   "outputs": [
    {
     "ename": "UnicodeDecodeError",
     "evalue": "'gbk' codec can't decode byte 0x80 in position 105: illegal multibyte sequence",
     "output_type": "error",
     "traceback": [
      "\u001b[1;31m---------------------------------------------------------------------------\u001b[0m",
      "\u001b[1;31mUnicodeDecodeError\u001b[0m                        Traceback (most recent call last)",
      "\u001b[1;32m<ipython-input-6-262004719d5e>\u001b[0m in \u001b[0;36m<module>\u001b[1;34m\u001b[0m\n\u001b[1;32m----> 1\u001b[1;33m \u001b[0mdata\u001b[0m \u001b[1;33m=\u001b[0m \u001b[0mopen\u001b[0m\u001b[1;33m(\u001b[0m\u001b[1;34m\"yesterday.txt\"\u001b[0m\u001b[1;33m)\u001b[0m\u001b[1;33m.\u001b[0m\u001b[0mread\u001b[0m\u001b[1;33m(\u001b[0m\u001b[1;33m)\u001b[0m\u001b[1;33m\u001b[0m\u001b[1;33m\u001b[0m\u001b[0m\n\u001b[0m",
      "\u001b[1;31mUnicodeDecodeError\u001b[0m: 'gbk' codec can't decode byte 0x80 in position 105: illegal multibyte sequence"
     ]
    }
   ],
   "source": [
    "data = open(\"yesterday.txt\").read()"
   ]
  },
  {
   "cell_type": "code",
   "execution_count": 3,
   "metadata": {},
   "outputs": [],
   "source": [
    "data = open(\"yesterday2\",encoding=\"utf-8\").read()"
   ]
  },
  {
   "cell_type": "code",
   "execution_count": 4,
   "metadata": {},
   "outputs": [
    {
     "name": "stdout",
     "output_type": "stream",
     "text": [
      "Somehow, it seems the love I knew was always the most destructive kind\n",
      "不知为何，我经历的爱情总是最具毁灭性的的那种\n",
      "Yesterday when I was young\n",
      "昨日当我年少轻狂\n",
      "The taste of life was sweet\n",
      "生命的滋味是甜的\n",
      "As rain upon my tongue\n",
      "就如舌尖上的雨露\n",
      "I teased at life as if it were a foolish game\n",
      "我戏弄生命 视其为愚蠢的游戏\n",
      "The way the evening breeze\n",
      "就如夜晚的微风\n",
      "May tease the candle flame\n",
      "逗弄蜡烛的火苗\n",
      "The thousand dreams I dreamed\n",
      "我曾千万次梦见\n",
      "The splendid things I planned\n",
      "那些我计划的绚丽蓝图\n",
      "I always built to last on weak and shifting sand\n",
      "但我总是将之建筑在易逝的流沙上\n",
      "I lived by night and shunned the naked light of day\n",
      "我夜夜笙歌 逃避白昼赤裸的阳光\n",
      "And only now I see how the time ran away\n",
      "事到如今我才看清岁月是如何匆匆流逝\n",
      "Yesterday when I was young\n",
      "昨日当我年少轻狂\n",
      "So many lovely songs were waiting to be sung\n",
      "有那么多甜美的曲儿等我歌唱\n",
      "So many wild pleasures lay in store for me\n",
      "有那么多肆意的快乐等我享受\n",
      "And so much pain my eyes refused to see\n",
      "还有那么多痛苦 我的双眼却视而不见\n",
      "I ran so fast that time and youth at last ran out\n",
      "我飞快地奔走 最终时光与青春消逝殆尽\n",
      "I never stopped to think what life was all about\n",
      "我从未停下脚步去思考生命的意义\n",
      "And every conversation that I can now recall\n",
      "如今回想起的所有对话\n",
      "Concerned itself with me and nothing else at all\n",
      "除了和我相关的 什么都记不得了\n",
      "The game of love I played with arrogance and pride\n",
      "我用自负和傲慢玩着爱情的游戏\n",
      "And every flame I lit too quickly, quickly died\n",
      "所有我点燃的火焰都熄灭得太快\n",
      "The friends I made all somehow seemed to slip away\n",
      "所有我交的朋友似乎都不知不觉地离开了\n",
      "And only now I'm left alone to end the play, yeah\n",
      "只剩我一个人在台上来结束这场闹剧\n",
      "Oh, yesterday when I was young\n",
      "噢 昨日当我年少轻狂\n",
      "So many, many songs were waiting to be sung\n",
      "有那么那么多甜美的曲儿等我歌唱\n",
      "So many wild pleasures lay in store for me\n",
      "有那么多肆意的快乐等我享受\n",
      "And so much pain my eyes refused to see\n",
      "还有那么多痛苦 我的双眼却视而不见\n",
      "There are so many songs in me that won't be sung\n",
      "我有太多歌曲永远不会被唱起\n",
      "I feel the bitter taste of tears upon my tongue\n",
      "我尝到了舌尖泪水的苦涩滋味\n",
      "The time has come for me to pay for yesterday\n",
      "终于到了付出代价的时间 为了昨日\n",
      "When I was young\n",
      "当我年少轻狂\n"
     ]
    }
   ],
   "source": [
    "print(data)"
   ]
  },
  {
   "cell_type": "code",
   "execution_count": 5,
   "metadata": {},
   "outputs": [],
   "source": [
    "f = open(\"yesterday2\",encoding=\"utf-8\")  # 文件句柄，文件的内存对象"
   ]
  },
  {
   "cell_type": "code",
   "execution_count": 6,
   "metadata": {},
   "outputs": [],
   "source": [
    "data = f.read()"
   ]
  },
  {
   "cell_type": "code",
   "execution_count": 7,
   "metadata": {},
   "outputs": [
    {
     "name": "stdout",
     "output_type": "stream",
     "text": [
      "I love python!\n",
      "because python is very good!\n"
     ]
    }
   ],
   "source": [
    "print(data)"
   ]
  },
  {
   "cell_type": "code",
   "execution_count": 10,
   "metadata": {},
   "outputs": [],
   "source": [
    "data2 = f.read()"
   ]
  },
  {
   "cell_type": "code",
   "execution_count": 13,
   "metadata": {},
   "outputs": [
    {
     "name": "stdout",
     "output_type": "stream",
     "text": [
      "\n"
     ]
    }
   ],
   "source": [
    "print(data2)\n",
    "f.close()"
   ]
  },
  {
   "cell_type": "code",
   "execution_count": 19,
   "metadata": {},
   "outputs": [
    {
     "ename": "UnsupportedOperation",
     "evalue": "not readable",
     "output_type": "error",
     "traceback": [
      "\u001b[1;31m---------------------------------------------------------------------------\u001b[0m",
      "\u001b[1;31mUnsupportedOperation\u001b[0m                      Traceback (most recent call last)",
      "\u001b[1;32m<ipython-input-19-ceabfdc1c7b7>\u001b[0m in \u001b[0;36m<module>\u001b[1;34m\u001b[0m\n\u001b[0;32m      1\u001b[0m \u001b[0mf\u001b[0m \u001b[1;33m=\u001b[0m \u001b[0mopen\u001b[0m\u001b[1;33m(\u001b[0m\u001b[1;34m\"yesterday.txt\"\u001b[0m\u001b[1;33m,\u001b[0m\u001b[1;34m\"a\"\u001b[0m\u001b[1;33m,\u001b[0m\u001b[0mencoding\u001b[0m\u001b[1;33m=\u001b[0m\u001b[1;34m\"utf-8\"\u001b[0m\u001b[1;33m)\u001b[0m\u001b[1;33m\u001b[0m\u001b[1;33m\u001b[0m\u001b[0m\n\u001b[1;32m----> 2\u001b[1;33m \u001b[0mdata\u001b[0m \u001b[1;33m=\u001b[0m \u001b[0mf\u001b[0m\u001b[1;33m.\u001b[0m\u001b[0mread\u001b[0m\u001b[1;33m(\u001b[0m\u001b[1;33m)\u001b[0m\u001b[1;33m\u001b[0m\u001b[1;33m\u001b[0m\u001b[0m\n\u001b[0m\u001b[0;32m      3\u001b[0m \u001b[0mprint\u001b[0m\u001b[1;33m(\u001b[0m\u001b[0mdata\u001b[0m\u001b[1;33m)\u001b[0m\u001b[1;33m\u001b[0m\u001b[1;33m\u001b[0m\u001b[0m\n\u001b[0;32m      4\u001b[0m \u001b[0mdata2\u001b[0m \u001b[1;33m=\u001b[0m \u001b[0mf\u001b[0m\u001b[1;33m.\u001b[0m\u001b[0mread\u001b[0m\u001b[1;33m(\u001b[0m\u001b[1;33m)\u001b[0m\u001b[1;33m\u001b[0m\u001b[1;33m\u001b[0m\u001b[0m\n\u001b[0;32m      5\u001b[0m \u001b[0mprint\u001b[0m\u001b[1;33m(\u001b[0m\u001b[1;34m\"data2========\"\u001b[0m\u001b[1;33m,\u001b[0m\u001b[0mdata2\u001b[0m\u001b[1;33m)\u001b[0m\u001b[1;33m\u001b[0m\u001b[1;33m\u001b[0m\u001b[0m\n",
      "\u001b[1;31mUnsupportedOperation\u001b[0m: not readable"
     ]
    }
   ],
   "source": [
    "f = open(\"yesterday.txt\",\"a\",encoding=\"utf-8\")\n",
    "data = f.read()\n",
    "print(data)\n",
    "data2 = f.read()\n",
    "print(\"data2========\",data2)\n",
    "f.write(\"my name is dt.\")\n",
    "f.close()"
   ]
  },
  {
   "cell_type": "code",
   "execution_count": 8,
   "metadata": {},
   "outputs": [
    {
     "name": "stdout",
     "output_type": "stream",
     "text": [
      "I love python!\n",
      "because python is very good!\n"
     ]
    }
   ],
   "source": [
    "f = open(\"yesterday.txt\",\"r\",encoding=\"utf-8\")\n",
    "data = f.read()\n",
    "print(data)"
   ]
  },
  {
   "cell_type": "code",
   "execution_count": 15,
   "metadata": {},
   "outputs": [],
   "source": [
    "f = open(\"yesterday.txt\",'w',encoding=\"utf-8\")"
   ]
  },
  {
   "cell_type": "code",
   "execution_count": 16,
   "metadata": {},
   "outputs": [
    {
     "data": {
      "text/plain": [
       "15"
      ]
     },
     "execution_count": 16,
     "metadata": {},
     "output_type": "execute_result"
    }
   ],
   "source": [
    "f.write(\"I love python!\\n\")"
   ]
  },
  {
   "cell_type": "code",
   "execution_count": 25,
   "metadata": {},
   "outputs": [],
   "source": [
    "f.close()"
   ]
  },
  {
   "cell_type": "code",
   "execution_count": 18,
   "metadata": {},
   "outputs": [],
   "source": [
    "f = open(\"yesterday.txt\",'r',encoding=\"utf-8\")"
   ]
  },
  {
   "cell_type": "code",
   "execution_count": 19,
   "metadata": {},
   "outputs": [],
   "source": [
    "data = f.read()"
   ]
  },
  {
   "cell_type": "code",
   "execution_count": 20,
   "metadata": {},
   "outputs": [
    {
     "name": "stdout",
     "output_type": "stream",
     "text": [
      "I love python!\n",
      "\n"
     ]
    }
   ],
   "source": [
    "print(data)"
   ]
  },
  {
   "cell_type": "code",
   "execution_count": 29,
   "metadata": {},
   "outputs": [],
   "source": [
    "f.close()"
   ]
  },
  {
   "cell_type": "code",
   "execution_count": 30,
   "metadata": {},
   "outputs": [],
   "source": [
    "f = open(\"yesterday.txt\",'a',encoding=\"utf-8\")"
   ]
  },
  {
   "cell_type": "code",
   "execution_count": 31,
   "metadata": {},
   "outputs": [
    {
     "data": {
      "text/plain": [
       "28"
      ]
     },
     "execution_count": 31,
     "metadata": {},
     "output_type": "execute_result"
    }
   ],
   "source": [
    "f.write(\"because python is very good!\")"
   ]
  },
  {
   "cell_type": "code",
   "execution_count": 33,
   "metadata": {},
   "outputs": [],
   "source": [
    "f.close()"
   ]
  },
  {
   "cell_type": "code",
   "execution_count": 34,
   "metadata": {},
   "outputs": [],
   "source": [
    "f = open(\"yesterday.txt\",'r',encoding='utf-8')"
   ]
  },
  {
   "cell_type": "code",
   "execution_count": 35,
   "metadata": {},
   "outputs": [],
   "source": [
    "data2 = f.read()"
   ]
  },
  {
   "cell_type": "code",
   "execution_count": 36,
   "metadata": {},
   "outputs": [
    {
     "name": "stdout",
     "output_type": "stream",
     "text": [
      "I love python!\n",
      "because python is very good!\n"
     ]
    }
   ],
   "source": [
    "print(data2)"
   ]
  },
  {
   "cell_type": "markdown",
   "metadata": {},
   "source": [
    "### 读文件操作"
   ]
  },
  {
   "cell_type": "code",
   "execution_count": 11,
   "metadata": {},
   "outputs": [
    {
     "name": "stdout",
     "output_type": "stream",
     "text": [
      "Somehow, it seems the love I knew was always the most destructive kind\n",
      "不知为何，我经历的爱情总是最具毁灭性的的那种\n",
      "Yesterday when I was young\n",
      "昨日当我年少轻狂\n",
      "The taste of life was sweet\n",
      "生命的滋味是甜的\n",
      "As rain upon my tongue\n",
      "就如舌尖上的雨露\n",
      "I teased at life as if it were a foolish game\n",
      "我戏弄生命 视其为愚蠢的游戏\n",
      "The way the evening breeze\n",
      "就如夜晚的微风\n",
      "May tease the candle flame\n",
      "逗弄蜡烛的火苗\n",
      "The thousand dreams I dreamed\n",
      "我曾千万次梦见\n",
      "The splendid things I planned\n",
      "那些我计划的绚丽蓝图\n",
      "I always built to last on weak and shifting sand\n",
      "但我总是将之建筑在易逝的流沙上\n",
      "I lived by night and shunned the naked light of day\n",
      "我夜夜笙歌 逃避白昼赤裸的阳光\n",
      "And only now I see how the time ran away\n",
      "事到如今我才看清岁月是如何匆匆流逝\n",
      "Yesterday when I was young\n",
      "昨日当我年少轻狂\n",
      "So many lovely songs were waiting to be sung\n",
      "有那么多甜美的曲儿等我歌唱\n",
      "So many wild pleasures lay in store for me\n",
      "有那么多肆意的快乐等我享受\n",
      "And so much pain my eyes refused to see\n",
      "还有那么多痛苦 我的双眼却视而不见\n",
      "I ran so fast that time and youth at last ran out\n",
      "我飞快地奔走 最终时光与青春消逝殆尽\n",
      "I never stopped to think what life was all about\n",
      "我从未停下脚步去思考生命的意义\n",
      "And every conversation that I can now recall\n",
      "如今回想起的所有对话\n",
      "Concerned itself with me and nothing else at all\n",
      "除了和我相关的 什么都记不得了\n",
      "The game of love I played with arrogance and pride\n",
      "我用自负和傲慢玩着爱情的游戏\n",
      "And every flame I lit too quickly, quickly died\n",
      "所有我点燃的火焰都熄灭得太快\n",
      "The friends I made all somehow seemed to slip away\n",
      "所有我交的朋友似乎都不知不觉地离开了\n",
      "And only now I'm left alone to end the play, yeah\n",
      "只剩我一个人在台上来结束这场闹剧\n",
      "Oh, yesterday when I was young\n",
      "噢 昨日当我年少轻狂\n",
      "So many, many songs were waiting to be sung\n",
      "有那么那么多甜美的曲儿等我歌唱\n",
      "So many wild pleasures lay in store for me\n",
      "有那么多肆意的快乐等我享受\n",
      "And so much pain my eyes refused to see\n",
      "还有那么多痛苦 我的双眼却视而不见\n",
      "There are so many songs in me that won't be sung\n",
      "我有太多歌曲永远不会被唱起\n",
      "I feel the bitter taste of tears upon my tongue\n",
      "我尝到了舌尖泪水的苦涩滋味\n",
      "The time has come for me to pay for yesterday\n",
      "终于到了付出代价的时间 为了昨日\n",
      "When I was young\n",
      "当我年少轻狂\n"
     ]
    }
   ],
   "source": [
    "f = open(\"yesterday2\",'r',encoding='utf-8')\n",
    "data = f.read()\n",
    "print(data)\n",
    "f.close()"
   ]
  },
  {
   "cell_type": "markdown",
   "metadata": {},
   "source": [
    "### 打印前五行的内容"
   ]
  },
  {
   "cell_type": "code",
   "execution_count": 82,
   "metadata": {},
   "outputs": [
    {
     "name": "stdout",
     "output_type": "stream",
     "text": [
      "Somehow, it seems the love I knew was always the most destructive kind\n",
      "不知为何，我经历的爱情总是最具毁灭性的的那种\n",
      "Yesterday when I was young\n",
      "昨日当我年少轻狂\n",
      "The taste of life was sweet\n"
     ]
    }
   ],
   "source": [
    "f = open(\"yesterday2\",'r',encoding='utf-8')\n",
    "for i in range(5):\n",
    "    print(f.readline().strip())\n",
    "f.close()"
   ]
  },
  {
   "cell_type": "markdown",
   "metadata": {},
   "source": [
    "### 在第九行打印---------分割线----------"
   ]
  },
  {
   "cell_type": "code",
   "execution_count": 81,
   "metadata": {},
   "outputs": [
    {
     "name": "stdout",
     "output_type": "stream",
     "text": [
      "Somehow, it seems the love I knew was always the most destructive kind\n",
      "不知为何，我经历的爱情总是最具毁灭性的的那种\n",
      "Yesterday when I was young\n",
      "昨日当我年少轻狂\n",
      "The taste of life was sweet\n",
      "生命的滋味是甜的\n",
      "As rain upon my tongue\n",
      "就如舌尖上的雨露\n",
      "I teased at life as if it were a foolish game\n",
      "---------------------------------分割线----------------------------------\n",
      "我戏弄生命 视其为愚蠢的游戏\n",
      "The way the evening breeze\n",
      "就如夜晚的微风\n",
      "May tease the candle flame\n",
      "逗弄蜡烛的火苗\n",
      "The thousand dreams I dreamed\n",
      "我曾千万次梦见\n",
      "The splendid things I planned\n",
      "那些我计划的绚丽蓝图\n",
      "I always built to last on weak and shifting sand\n",
      "但我总是将之建筑在易逝的流沙上\n",
      "I lived by night and shunned the naked light of day\n",
      "我夜夜笙歌 逃避白昼赤裸的阳光\n",
      "And only now I see how the time ran away\n",
      "事到如今我才看清岁月是如何匆匆流逝\n",
      "Yesterday when I was young\n",
      "昨日当我年少轻狂\n",
      "So many lovely songs were waiting to be sung\n",
      "有那么多甜美的曲儿等我歌唱\n",
      "So many wild pleasures lay in store for me\n",
      "有那么多肆意的快乐等我享受\n",
      "And so much pain my eyes refused to see\n",
      "还有那么多痛苦 我的双眼却视而不见\n",
      "I ran so fast that time and youth at last ran out\n",
      "我飞快地奔走 最终时光与青春消逝殆尽\n",
      "I never stopped to think what life was all about\n",
      "我从未停下脚步去思考生命的意义\n",
      "And every conversation that I can now recall\n",
      "如今回想起的所有对话\n",
      "Concerned itself with me and nothing else at all\n",
      "除了和我相关的 什么都记不得了\n",
      "The game of love I played with arrogance and pride\n",
      "我用自负和傲慢玩着爱情的游戏\n",
      "And every flame I lit too quickly, quickly died\n",
      "所有我点燃的火焰都熄灭得太快\n",
      "The friends I made all somehow seemed to slip away\n",
      "所有我交的朋友似乎都不知不觉地离开了\n",
      "And only now I'm left alone to end the play, yeah\n",
      "只剩我一个人在台上来结束这场闹剧\n",
      "Oh, yesterday when I was young\n",
      "噢 昨日当我年少轻狂\n",
      "So many, many songs were waiting to be sung\n",
      "有那么那么多甜美的曲儿等我歌唱\n",
      "So many wild pleasures lay in store for me\n",
      "有那么多肆意的快乐等我享受\n",
      "And so much pain my eyes refused to see\n",
      "还有那么多痛苦 我的双眼却视而不见\n",
      "There are so many songs in me that won't be sung\n",
      "我有太多歌曲永远不会被唱起\n",
      "I feel the bitter taste of tears upon my tongue\n",
      "我尝到了舌尖泪水的苦涩滋味\n",
      "The time has come for me to pay for yesterday\n",
      "终于到了付出代价的时间 为了昨日\n",
      "When I was young\n",
      "当我年少轻狂\n"
     ]
    }
   ],
   "source": [
    "f = open(\"yesterday2\",'r',encoding=\"utf-8\")\n",
    "for index,item in enumerate(f.readlines()):\n",
    "    if index == 9:\n",
    "        print(\"分割线\".center(70,'-'))\n",
    "    print(item.strip())\n",
    "f.close()"
   ]
  },
  {
   "cell_type": "markdown",
   "metadata": {},
   "source": [
    "### 高效率的循环"
   ]
  },
  {
   "cell_type": "code",
   "execution_count": 91,
   "metadata": {},
   "outputs": [
    {
     "name": "stdout",
     "output_type": "stream",
     "text": [
      "Somehow, it seems the love I knew was always the most destructive kind\n",
      "不知为何，我经历的爱情总是最具毁灭性的的那种\n",
      "Yesterday when I was young\n",
      "昨日当我年少轻狂\n",
      "The taste of life was sweet\n",
      "生命的滋味是甜的\n",
      "As rain upon my tongue\n",
      "就如舌尖上的雨露\n",
      "I teased at life as if it were a foolish game\n",
      "---------------------------------分割线----------------------------------\n",
      "我戏弄生命 视其为愚蠢的游戏\n",
      "The way the evening breeze\n",
      "就如夜晚的微风\n",
      "May tease the candle flame\n",
      "逗弄蜡烛的火苗\n",
      "The thousand dreams I dreamed\n",
      "我曾千万次梦见\n",
      "The splendid things I planned\n",
      "那些我计划的绚丽蓝图\n",
      "I always built to last on weak and shifting sand\n",
      "但我总是将之建筑在易逝的流沙上\n",
      "I lived by night and shunned the naked light of day\n",
      "我夜夜笙歌 逃避白昼赤裸的阳光\n",
      "And only now I see how the time ran away\n",
      "事到如今我才看清岁月是如何匆匆流逝\n",
      "Yesterday when I was young\n",
      "昨日当我年少轻狂\n",
      "So many lovely songs were waiting to be sung\n",
      "有那么多甜美的曲儿等我歌唱\n",
      "So many wild pleasures lay in store for me\n",
      "有那么多肆意的快乐等我享受\n",
      "And so much pain my eyes refused to see\n",
      "还有那么多痛苦 我的双眼却视而不见\n",
      "I ran so fast that time and youth at last ran out\n",
      "我飞快地奔走 最终时光与青春消逝殆尽\n",
      "I never stopped to think what life was all about\n",
      "我从未停下脚步去思考生命的意义\n",
      "And every conversation that I can now recall\n",
      "如今回想起的所有对话\n",
      "Concerned itself with me and nothing else at all\n",
      "除了和我相关的 什么都记不得了\n",
      "The game of love I played with arrogance and pride\n",
      "我用自负和傲慢玩着爱情的游戏\n",
      "And every flame I lit too quickly, quickly died\n",
      "所有我点燃的火焰都熄灭得太快\n",
      "The friends I made all somehow seemed to slip away\n",
      "所有我交的朋友似乎都不知不觉地离开了\n",
      "And only now I'm left alone to end the play, yeah\n",
      "只剩我一个人在台上来结束这场闹剧\n",
      "Oh, yesterday when I was young\n",
      "噢 昨日当我年少轻狂\n",
      "So many, many songs were waiting to be sung\n",
      "有那么那么多甜美的曲儿等我歌唱\n",
      "So many wild pleasures lay in store for me\n",
      "有那么多肆意的快乐等我享受\n",
      "And so much pain my eyes refused to see\n",
      "还有那么多痛苦 我的双眼却视而不见\n",
      "There are so many songs in me that won't be sung\n",
      "我有太多歌曲永远不会被唱起\n",
      "I feel the bitter taste of tears upon my tongue\n",
      "我尝到了舌尖泪水的苦涩滋味\n",
      "The time has come for me to pay for yesterday\n",
      "终于到了付出代价的时间 为了昨日\n",
      "When I was young\n",
      "当我年少轻狂\n"
     ]
    }
   ],
   "source": [
    "f = open(\"yesterday2\",'r',encoding=\"utf-8\")\n",
    "count = 0\n",
    "for item in f:\n",
    "    if count == 9:\n",
    "        print(\"分割线\".center(70,'-')) \n",
    "    print(item.strip())\n",
    "    count+=1\n",
    "f.close()"
   ]
  },
  {
   "cell_type": "markdown",
   "metadata": {},
   "source": [
    "### 文件指针"
   ]
  },
  {
   "cell_type": "code",
   "execution_count": 21,
   "metadata": {},
   "outputs": [
    {
     "name": "stdout",
     "output_type": "stream",
     "text": [
      "0\n",
      "Somehow, it seems the love I knew was always the most destructive kind\n",
      "71\n"
     ]
    }
   ],
   "source": [
    "f = open(\"yesterday2\",'r',encoding=\"utf-8\")\n",
    "print(f.tell())    # 光标所在位置，索引\n",
    "print(f.readline().strip())\n",
    "print(f.tell())"
   ]
  },
  {
   "cell_type": "markdown",
   "metadata": {},
   "source": [
    "### 读文件前5位"
   ]
  },
  {
   "cell_type": "code",
   "execution_count": 22,
   "metadata": {},
   "outputs": [
    {
     "name": "stdout",
     "output_type": "stream",
     "text": [
      "0\n",
      "Somehow, it seems the love I knew was always the most destructive kind\n",
      "不知为何，我经历的爱情总是最具毁灭性的的那种\n",
      "138\n",
      "Somehow, it seems the love I knew was always the most destructive kind\n",
      "71\n"
     ]
    }
   ],
   "source": [
    "f = open(\"yesterday2\",'r',encoding=\"utf-8\")\n",
    "print(f.tell())    # 光标所在位置，索引\n",
    "print(f.readline().strip())\n",
    "print(f.readline().strip())\n",
    "print(f.tell())\n",
    "f.seek(0) # 回到0下标\n",
    "print(f.readline().strip())\n",
    "print(f.tell())"
   ]
  },
  {
   "cell_type": "markdown",
   "metadata": {},
   "source": [
    "### 进度条"
   ]
  },
  {
   "cell_type": "code",
   "execution_count": 1,
   "metadata": {},
   "outputs": [
    {
     "name": "stdout",
     "output_type": "stream",
     "text": [
      "##########\n",
      "10.124766111373901 s\n"
     ]
    }
   ],
   "source": [
    "import sys,time\n",
    "\n",
    "start_time = time.time()\n",
    "for i in range(10):\n",
    "    sys.stdout.write(\"#\")\n",
    "    sys.stdout.flush()\n",
    "    time.sleep(1)\n",
    "end_time = time.time()\n",
    "print()\n",
    "print(end_time-start_time,'s')"
   ]
  },
  {
   "cell_type": "markdown",
   "metadata": {},
   "source": [
    "# 文件修改"
   ]
  },
  {
   "cell_type": "code",
   "execution_count": 4,
   "metadata": {},
   "outputs": [],
   "source": [
    "f = open(\"yesterday2\",'r',encoding='utf-8')\n",
    "f_new = open(\"new.txt\",'w',encoding='utf-8')\n",
    "for line in f:\n",
    "    if \"等我享受\" in line:\n",
    "        line = line.replace(\"等我享受\",\"等DT享受\")\n",
    "    f_new.write(line)\n",
    "f.close()\n",
    "f_new.close()"
   ]
  },
  {
   "cell_type": "markdown",
   "metadata": {},
   "source": [
    "# with语句\n",
    "### 为了避免打开文件后忘记关闭，可以通过管理上下文，即："
   ]
  },
  {
   "cell_type": "code",
   "execution_count": 5,
   "metadata": {},
   "outputs": [],
   "source": [
    "with open(\"yesterday2\",'r',encoding='utf-8') as f:\n",
    "    pass"
   ]
  },
  {
   "cell_type": "markdown",
   "metadata": {},
   "source": [
    "### 用这种方法，当with代码执行完毕之后，内部会自动关闭并释放文件资源。\n",
    "### 在Python2.7之后，with支持同时对多个文件的上下文进行管理，即："
   ]
  },
  {
   "cell_type": "code",
   "execution_count": 7,
   "metadata": {},
   "outputs": [],
   "source": [
    "with open(\"yesterday2\",'r',encoding='utf-8') as f,\\    # 在一行中换行，python中一行最好不要超过80字符\n",
    "    open(\"yesterday.txt\",'r',encoding='utf-8') as f1:\n",
    "    pass"
   ]
  },
  {
   "cell_type": "code",
   "execution_count": null,
   "metadata": {},
   "outputs": [],
   "source": []
  }
 ],
 "metadata": {
  "kernelspec": {
   "display_name": "Python 3",
   "language": "python",
   "name": "python3"
  },
  "language_info": {
   "codemirror_mode": {
    "name": "ipython",
    "version": 3
   },
   "file_extension": ".py",
   "mimetype": "text/x-python",
   "name": "python",
   "nbconvert_exporter": "python",
   "pygments_lexer": "ipython3",
   "version": "3.7.2"
  }
 },
 "nbformat": 4,
 "nbformat_minor": 2
}
