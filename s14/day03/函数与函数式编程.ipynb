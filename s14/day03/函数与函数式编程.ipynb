{
 "cells": [
  {
   "cell_type": "markdown",
   "metadata": {},
   "source": [
    "# 函数与函数式编程\n",
    "### 1、面向对象：类-----》class\n",
    "### 2、面向过程：过程-----》def \n",
    "### 3、函数式编程：函数-----》def"
   ]
  },
  {
   "cell_type": "markdown",
   "metadata": {},
   "source": [
    "### python中函数定义方法"
   ]
  },
  {
   "cell_type": "code",
   "execution_count": 1,
   "metadata": {},
   "outputs": [],
   "source": [
    "def test(x):\n",
    "    \"The function define\"\n",
    "    return x"
   ]
  },
  {
   "cell_type": "code",
   "execution_count": 4,
   "metadata": {},
   "outputs": [
    {
     "name": "stdout",
     "output_type": "stream",
     "text": [
      "in the func1\n",
      "in the func2\n",
      "from func1 return is 0\n",
      "from func2 return is None\n"
     ]
    }
   ],
   "source": [
    "# 函数\n",
    "def func1():\n",
    "    \"testing\"  # 文档介绍\n",
    "    print('in the func1')\n",
    "    return 0\n",
    "\n",
    "# 过程     就是没有返回值的函数\n",
    "def func2():\n",
    "    \"testing2\"\n",
    "    print(\"in the func2\")\n",
    "    \n",
    "\n",
    "x = func1()\n",
    "y = func2()\n",
    "\n",
    "print('from func1 return is %s'%x)\n",
    "print('from func2 return is %s'%y)"
   ]
  },
  {
   "cell_type": "markdown",
   "metadata": {},
   "source": [
    "## 为什么要使用函数?"
   ]
  },
  {
   "cell_type": "code",
   "execution_count": 13,
   "metadata": {},
   "outputs": [
    {
     "name": "stdout",
     "output_type": "stream",
     "text": [
      "int the test1\n",
      "int the test2\n",
      "int the test3\n"
     ]
    }
   ],
   "source": [
    "import time\n",
    "\n",
    "def action():\n",
    "    time_format = '%Y-%m-%d %X'\n",
    "    time_current = time.strftime(time_format)\n",
    "    with open('a.txt','a') as f:\n",
    "        f.write('%s end action\\n'%(time_current))\n",
    "        \n",
    "def test1():\n",
    "    print(\"int the test1\")\n",
    "    action()\n",
    "\n",
    "def test2():\n",
    "    print(\"int the test2\")\n",
    "    action()\n",
    "    \n",
    "def test3():\n",
    "    print(\"int the test3\")\n",
    "    action()\n",
    "\n",
    "test1()\n",
    "test2()\n",
    "test3()"
   ]
  },
  {
   "cell_type": "code",
   "execution_count": null,
   "metadata": {},
   "outputs": [],
   "source": []
  }
 ],
 "metadata": {
  "kernelspec": {
   "display_name": "Python 3",
   "language": "python",
   "name": "python3"
  },
  "language_info": {
   "codemirror_mode": {
    "name": "ipython",
    "version": 3
   },
   "file_extension": ".py",
   "mimetype": "text/x-python",
   "name": "python",
   "nbconvert_exporter": "python",
   "pygments_lexer": "ipython3",
   "version": "3.7.2"
  }
 },
 "nbformat": 4,
 "nbformat_minor": 2
}
